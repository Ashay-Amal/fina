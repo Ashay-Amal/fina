{
 "cells": [
  {
   "cell_type": "code",
   "execution_count": 1,
   "metadata": {},
   "outputs": [],
   "source": [
    "import pandas as pd\n",
    "df=pd.read_csv('agriculture_dataset.csv')"
   ]
  },
  {
   "cell_type": "code",
   "execution_count": 2,
   "metadata": {},
   "outputs": [
    {
     "data": {
      "text/html": [
       "<div>\n",
       "<style scoped>\n",
       "    .dataframe tbody tr th:only-of-type {\n",
       "        vertical-align: middle;\n",
       "    }\n",
       "\n",
       "    .dataframe tbody tr th {\n",
       "        vertical-align: top;\n",
       "    }\n",
       "\n",
       "    .dataframe thead th {\n",
       "        text-align: right;\n",
       "    }\n",
       "</style>\n",
       "<table border=\"1\" class=\"dataframe\">\n",
       "  <thead>\n",
       "    <tr style=\"text-align: right;\">\n",
       "      <th></th>\n",
       "      <th>Farm_ID</th>\n",
       "      <th>Crop_Type</th>\n",
       "      <th>Farm_Area(acres)</th>\n",
       "      <th>Irrigation_Type</th>\n",
       "      <th>Fertilizer_Used(tons)</th>\n",
       "      <th>Pesticide_Used(kg)</th>\n",
       "      <th>Yield(tons)</th>\n",
       "      <th>Soil_Type</th>\n",
       "      <th>Season</th>\n",
       "      <th>Water_Usage(cubic meters)</th>\n",
       "    </tr>\n",
       "  </thead>\n",
       "  <tbody>\n",
       "    <tr>\n",
       "      <th>0</th>\n",
       "      <td>F001</td>\n",
       "      <td>Cotton</td>\n",
       "      <td>329.40</td>\n",
       "      <td>Sprinkler</td>\n",
       "      <td>8.14</td>\n",
       "      <td>2.21</td>\n",
       "      <td>14.44</td>\n",
       "      <td>Loamy</td>\n",
       "      <td>Kharif</td>\n",
       "      <td>76648.20</td>\n",
       "    </tr>\n",
       "    <tr>\n",
       "      <th>1</th>\n",
       "      <td>F002</td>\n",
       "      <td>Carrot</td>\n",
       "      <td>18.67</td>\n",
       "      <td>Manual</td>\n",
       "      <td>4.77</td>\n",
       "      <td>4.36</td>\n",
       "      <td>42.91</td>\n",
       "      <td>Peaty</td>\n",
       "      <td>Kharif</td>\n",
       "      <td>68725.54</td>\n",
       "    </tr>\n",
       "    <tr>\n",
       "      <th>2</th>\n",
       "      <td>F003</td>\n",
       "      <td>Sugarcane</td>\n",
       "      <td>306.03</td>\n",
       "      <td>Flood</td>\n",
       "      <td>2.91</td>\n",
       "      <td>0.56</td>\n",
       "      <td>33.44</td>\n",
       "      <td>Silty</td>\n",
       "      <td>Kharif</td>\n",
       "      <td>75538.56</td>\n",
       "    </tr>\n",
       "    <tr>\n",
       "      <th>3</th>\n",
       "      <td>F004</td>\n",
       "      <td>Tomato</td>\n",
       "      <td>380.21</td>\n",
       "      <td>Rain-fed</td>\n",
       "      <td>3.32</td>\n",
       "      <td>4.35</td>\n",
       "      <td>34.08</td>\n",
       "      <td>Silty</td>\n",
       "      <td>Zaid</td>\n",
       "      <td>45401.23</td>\n",
       "    </tr>\n",
       "    <tr>\n",
       "      <th>4</th>\n",
       "      <td>F005</td>\n",
       "      <td>Tomato</td>\n",
       "      <td>135.56</td>\n",
       "      <td>Sprinkler</td>\n",
       "      <td>8.33</td>\n",
       "      <td>4.48</td>\n",
       "      <td>43.28</td>\n",
       "      <td>Clay</td>\n",
       "      <td>Zaid</td>\n",
       "      <td>93718.69</td>\n",
       "    </tr>\n",
       "  </tbody>\n",
       "</table>\n",
       "</div>"
      ],
      "text/plain": [
       "  Farm_ID  Crop_Type  Farm_Area(acres) Irrigation_Type  Fertilizer_Used(tons)  \\\n",
       "0    F001     Cotton            329.40       Sprinkler                   8.14   \n",
       "1    F002     Carrot             18.67          Manual                   4.77   \n",
       "2    F003  Sugarcane            306.03           Flood                   2.91   \n",
       "3    F004     Tomato            380.21        Rain-fed                   3.32   \n",
       "4    F005     Tomato            135.56       Sprinkler                   8.33   \n",
       "\n",
       "   Pesticide_Used(kg)  Yield(tons) Soil_Type  Season  \\\n",
       "0                2.21        14.44     Loamy  Kharif   \n",
       "1                4.36        42.91     Peaty  Kharif   \n",
       "2                0.56        33.44     Silty  Kharif   \n",
       "3                4.35        34.08     Silty    Zaid   \n",
       "4                4.48        43.28      Clay    Zaid   \n",
       "\n",
       "   Water_Usage(cubic meters)  \n",
       "0                   76648.20  \n",
       "1                   68725.54  \n",
       "2                   75538.56  \n",
       "3                   45401.23  \n",
       "4                   93718.69  "
      ]
     },
     "execution_count": 2,
     "metadata": {},
     "output_type": "execute_result"
    }
   ],
   "source": [
    "df.head()"
   ]
  },
  {
   "cell_type": "code",
   "execution_count": 9,
   "metadata": {},
   "outputs": [
    {
     "data": {
      "text/plain": [
       "array(['Cotton', 'Carrot', 'Sugarcane', 'Tomato', 'Soybean', 'Rice',\n",
       "       'Maize', 'Wheat', 'Barley', 'Potato'], dtype=object)"
      ]
     },
     "execution_count": 9,
     "metadata": {},
     "output_type": "execute_result"
    }
   ],
   "source": [
    "df['Crop_Type'].unique()"
   ]
  },
  {
   "cell_type": "code",
   "execution_count": null,
   "metadata": {},
   "outputs": [],
   "source": []
  }
 ],
 "metadata": {
  "kernelspec": {
   "display_name": "Python 3",
   "language": "python",
   "name": "python3"
  },
  "language_info": {
   "codemirror_mode": {
    "name": "ipython",
    "version": 3
   },
   "file_extension": ".py",
   "mimetype": "text/x-python",
   "name": "python",
   "nbconvert_exporter": "python",
   "pygments_lexer": "ipython3",
   "version": "3.12.4"
  }
 },
 "nbformat": 4,
 "nbformat_minor": 2
}
